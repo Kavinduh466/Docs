{
  "metadata": {
    "kernelspec": {
      "name": "python",
      "display_name": "Python (Pyodide)",
      "language": "python"
    },
    "language_info": {
      "codemirror_mode": {
        "name": "python",
        "version": 3
      },
      "file_extension": ".py",
      "mimetype": "text/x-python",
      "name": "python",
      "nbconvert_exporter": "python",
      "pygments_lexer": "ipython3",
      "version": "3.8"
    }
  },
  "nbformat_minor": 5,
  "nbformat": 4,
  "cells": [
    {
      "id": "e29ae90c-cbc1-4f42-8c72-fa049a55115d",
      "cell_type": "code",
      "source": "import pandas as pd\nfrom matplotlib import pyplot as plt",
      "metadata": {
        "trusted": true
      },
      "outputs": [],
      "execution_count": 9
    },
    {
      "id": "86ad7661-3f7c-4a51-8f4c-3dc5f3360810",
      "cell_type": "code",
      "source": "df = pd.read_csv(\"insurance_data.csv\")\ndf",
      "metadata": {
        "trusted": true
      },
      "outputs": [
        {
          "execution_count": 5,
          "output_type": "execute_result",
          "data": {
            "text/plain": "    age  bought_insurance\n0    22                 0\n1    25                 0\n2    47                 1\n3    52                 0\n4    46                 1\n5    56                 1\n6    55                 0\n7    60                 1\n8    62                 1\n9    61                 1\n10   18                 0\n11   28                 0\n12   27                 0\n13   29                 0\n14   49                 1\n15   55                 1\n16   25                 1\n17   58                 1\n18   19                 0\n19   18                 0\n20   21                 0\n21   26                 0\n22   40                 1\n23   45                 1\n24   50                 1\n25   54                 1\n26   23                 0",
            "text/html": "<div>\n<style scoped>\n    .dataframe tbody tr th:only-of-type {\n        vertical-align: middle;\n    }\n\n    .dataframe tbody tr th {\n        vertical-align: top;\n    }\n\n    .dataframe thead th {\n        text-align: right;\n    }\n</style>\n<table border=\"1\" class=\"dataframe\">\n  <thead>\n    <tr style=\"text-align: right;\">\n      <th></th>\n      <th>age</th>\n      <th>bought_insurance</th>\n    </tr>\n  </thead>\n  <tbody>\n    <tr>\n      <th>0</th>\n      <td>22</td>\n      <td>0</td>\n    </tr>\n    <tr>\n      <th>1</th>\n      <td>25</td>\n      <td>0</td>\n    </tr>\n    <tr>\n      <th>2</th>\n      <td>47</td>\n      <td>1</td>\n    </tr>\n    <tr>\n      <th>3</th>\n      <td>52</td>\n      <td>0</td>\n    </tr>\n    <tr>\n      <th>4</th>\n      <td>46</td>\n      <td>1</td>\n    </tr>\n    <tr>\n      <th>5</th>\n      <td>56</td>\n      <td>1</td>\n    </tr>\n    <tr>\n      <th>6</th>\n      <td>55</td>\n      <td>0</td>\n    </tr>\n    <tr>\n      <th>7</th>\n      <td>60</td>\n      <td>1</td>\n    </tr>\n    <tr>\n      <th>8</th>\n      <td>62</td>\n      <td>1</td>\n    </tr>\n    <tr>\n      <th>9</th>\n      <td>61</td>\n      <td>1</td>\n    </tr>\n    <tr>\n      <th>10</th>\n      <td>18</td>\n      <td>0</td>\n    </tr>\n    <tr>\n      <th>11</th>\n      <td>28</td>\n      <td>0</td>\n    </tr>\n    <tr>\n      <th>12</th>\n      <td>27</td>\n      <td>0</td>\n    </tr>\n    <tr>\n      <th>13</th>\n      <td>29</td>\n      <td>0</td>\n    </tr>\n    <tr>\n      <th>14</th>\n      <td>49</td>\n      <td>1</td>\n    </tr>\n    <tr>\n      <th>15</th>\n      <td>55</td>\n      <td>1</td>\n    </tr>\n    <tr>\n      <th>16</th>\n      <td>25</td>\n      <td>1</td>\n    </tr>\n    <tr>\n      <th>17</th>\n      <td>58</td>\n      <td>1</td>\n    </tr>\n    <tr>\n      <th>18</th>\n      <td>19</td>\n      <td>0</td>\n    </tr>\n    <tr>\n      <th>19</th>\n      <td>18</td>\n      <td>0</td>\n    </tr>\n    <tr>\n      <th>20</th>\n      <td>21</td>\n      <td>0</td>\n    </tr>\n    <tr>\n      <th>21</th>\n      <td>26</td>\n      <td>0</td>\n    </tr>\n    <tr>\n      <th>22</th>\n      <td>40</td>\n      <td>1</td>\n    </tr>\n    <tr>\n      <th>23</th>\n      <td>45</td>\n      <td>1</td>\n    </tr>\n    <tr>\n      <th>24</th>\n      <td>50</td>\n      <td>1</td>\n    </tr>\n    <tr>\n      <th>25</th>\n      <td>54</td>\n      <td>1</td>\n    </tr>\n    <tr>\n      <th>26</th>\n      <td>23</td>\n      <td>0</td>\n    </tr>\n  </tbody>\n</table>\n</div>"
          },
          "metadata": {}
        }
      ],
      "execution_count": 5
    },
    {
      "id": "9e536dd1-fcc7-40c1-80e4-2f61c0bd078e",
      "cell_type": "code",
      "source": "plt.scatter(df.age, df.bought_insurance, marker='+', color='red')",
      "metadata": {
        "trusted": true
      },
      "outputs": [
        {
          "execution_count": 10,
          "output_type": "execute_result",
          "data": {
            "text/plain": "<matplotlib.collections.PathCollection at 0xa209660>"
          },
          "metadata": {}
        },
        {
          "output_type": "display_data",
          "data": {
            "text/plain": "<Figure size 640x480 with 1 Axes>",
            "image/png": "[encoded data removed]"
          },
          "metadata": {}
        }
      ],
      "execution_count": 10
    },
    {
      "id": "8b49f90f-ed68-4a4f-949c-921832babf7c",
      "cell_type": "code",
      "source": "x = df[['age']]\nx",
      "metadata": {
        "trusted": true
      },
      "outputs": [
        {
          "execution_count": 11,
          "output_type": "execute_result",
          "data": {
            "text/plain": "    age\n0    22\n1    25\n2    47\n3    52\n4    46\n5    56\n6    55\n7    60\n8    62\n9    61\n10   18\n11   28\n12   27\n13   29\n14   49\n15   55\n16   25\n17   58\n18   19\n19   18\n20   21\n21   26\n22   40\n23   45\n24   50\n25   54\n26   23",
            "text/html": "<div>\n<style scoped>\n    .dataframe tbody tr th:only-of-type {\n        vertical-align: middle;\n    }\n\n    .dataframe tbody tr th {\n        vertical-align: top;\n    }\n\n    .dataframe thead th {\n        text-align: right;\n    }\n</style>\n<table border=\"1\" class=\"dataframe\">\n  <thead>\n    <tr style=\"text-align: right;\">\n      <th></th>\n      <th>age</th>\n    </tr>\n  </thead>\n  <tbody>\n    <tr>\n      <th>0</th>\n      <td>22</td>\n    </tr>\n    <tr>\n      <th>1</th>\n      <td>25</td>\n    </tr>\n    <tr>\n      <th>2</th>\n      <td>47</td>\n    </tr>\n    <tr>\n      <th>3</th>\n      <td>52</td>\n    </tr>\n    <tr>\n      <th>4</th>\n      <td>46</td>\n    </tr>\n    <tr>\n      <th>5</th>\n      <td>56</td>\n    </tr>\n    <tr>\n      <th>6</th>\n      <td>55</td>\n    </tr>\n    <tr>\n      <th>7</th>\n      <td>60</td>\n    </tr>\n    <tr>\n      <th>8</th>\n      <td>62</td>\n    </tr>\n    <tr>\n      <th>9</th>\n      <td>61</td>\n    </tr>\n    <tr>\n      <th>10</th>\n      <td>18</td>\n    </tr>\n    <tr>\n      <th>11</th>\n      <td>28</td>\n    </tr>\n    <tr>\n      <th>12</th>\n      <td>27</td>\n    </tr>\n    <tr>\n      <th>13</th>\n      <td>29</td>\n    </tr>\n    <tr>\n      <th>14</th>\n      <td>49</td>\n    </tr>\n    <tr>\n      <th>15</th>\n      <td>55</td>\n    </tr>\n    <tr>\n      <th>16</th>\n      <td>25</td>\n    </tr>\n    <tr>\n      <th>17</th>\n      <td>58</td>\n    </tr>\n    <tr>\n      <th>18</th>\n      <td>19</td>\n    </tr>\n    <tr>\n      <th>19</th>\n      <td>18</td>\n    </tr>\n    <tr>\n      <th>20</th>\n      <td>21</td>\n    </tr>\n    <tr>\n      <th>21</th>\n      <td>26</td>\n    </tr>\n    <tr>\n      <th>22</th>\n      <td>40</td>\n    </tr>\n    <tr>\n      <th>23</th>\n      <td>45</td>\n    </tr>\n    <tr>\n      <th>24</th>\n      <td>50</td>\n    </tr>\n    <tr>\n      <th>25</th>\n      <td>54</td>\n    </tr>\n    <tr>\n      <th>26</th>\n      <td>23</td>\n    </tr>\n  </tbody>\n</table>\n</div>"
          },
          "metadata": {}
        }
      ],
      "execution_count": 11
    },
    {
      "id": "821671df-927c-4ae4-9c09-8db0a1858776",
      "cell_type": "code",
      "source": "y = df.bought_insurance\ny",
      "metadata": {
        "trusted": true
      },
      "outputs": [
        {
          "execution_count": 12,
          "output_type": "execute_result",
          "data": {
            "text/plain": "0     0\n1     0\n2     1\n3     0\n4     1\n5     1\n6     0\n7     1\n8     1\n9     1\n10    0\n11    0\n12    0\n13    0\n14    1\n15    1\n16    1\n17    1\n18    0\n19    0\n20    0\n21    0\n22    1\n23    1\n24    1\n25    1\n26    0\nName: bought_insurance, dtype: int64"
          },
          "metadata": {}
        }
      ],
      "execution_count": 12
    },
    {
      "id": "52c82ba7-2040-4711-b025-4958ef277411",
      "cell_type": "code",
      "source": "from sklearn.model_selection import train_test_split",
      "metadata": {
        "trusted": true
      },
      "outputs": [],
      "execution_count": 14
    },
    {
      "id": "214f0d45-97a6-4a74-b9d3-852ac2603e25",
      "cell_type": "code",
      "source": "train_test_split",
      "metadata": {
        "trusted": true
      },
      "outputs": [
        {
          "execution_count": 15,
          "output_type": "execute_result",
          "data": {
            "text/plain": "<function sklearn.model_selection._split.train_test_split(*arrays, test_size=None, train_size=None, random_state=None, shuffle=True, stratify=None)>"
          },
          "metadata": {}
        }
      ],
      "execution_count": 15
    },
    {
      "id": "c63bd7fc-009c-498e-bfd2-5db98c2a811c",
      "cell_type": "code",
      "source": "x_train, x_test, y_train, y_test = train_test_split(x,y, test_size=0.1)",
      "metadata": {
        "trusted": true
      },
      "outputs": [],
      "execution_count": 28
    },
    {
      "id": "27b6e7e2-eeeb-44c0-8846-d90ca661589d",
      "cell_type": "code",
      "source": "x_train",
      "metadata": {
        "trusted": true
      },
      "outputs": [
        {
          "execution_count": 29,
          "output_type": "execute_result",
          "data": {
            "text/plain": "    age\n4    46\n5    56\n21   26\n24   50\n19   18\n14   49\n26   23\n6    55\n0    22\n7    60\n15   55\n9    61\n22   40\n16   25\n13   29\n20   21\n2    47\n18   19\n1    25\n8    62\n11   28\n10   18\n3    52\n25   54",
            "text/html": "<div>\n<style scoped>\n    .dataframe tbody tr th:only-of-type {\n        vertical-align: middle;\n    }\n\n    .dataframe tbody tr th {\n        vertical-align: top;\n    }\n\n    .dataframe thead th {\n        text-align: right;\n    }\n</style>\n<table border=\"1\" class=\"dataframe\">\n  <thead>\n    <tr style=\"text-align: right;\">\n      <th></th>\n      <th>age</th>\n    </tr>\n  </thead>\n  <tbody>\n    <tr>\n      <th>4</th>\n      <td>46</td>\n    </tr>\n    <tr>\n      <th>5</th>\n      <td>56</td>\n    </tr>\n    <tr>\n      <th>21</th>\n      <td>26</td>\n    </tr>\n    <tr>\n      <th>24</th>\n      <td>50</td>\n    </tr>\n    <tr>\n      <th>19</th>\n      <td>18</td>\n    </tr>\n    <tr>\n      <th>14</th>\n      <td>49</td>\n    </tr>\n    <tr>\n      <th>26</th>\n      <td>23</td>\n    </tr>\n    <tr>\n      <th>6</th>\n      <td>55</td>\n    </tr>\n    <tr>\n      <th>0</th>\n      <td>22</td>\n    </tr>\n    <tr>\n      <th>7</th>\n      <td>60</td>\n    </tr>\n    <tr>\n      <th>15</th>\n      <td>55</td>\n    </tr>\n    <tr>\n      <th>9</th>\n      <td>61</td>\n    </tr>\n    <tr>\n      <th>22</th>\n      <td>40</td>\n    </tr>\n    <tr>\n      <th>16</th>\n      <td>25</td>\n    </tr>\n    <tr>\n      <th>13</th>\n      <td>29</td>\n    </tr>\n    <tr>\n      <th>20</th>\n      <td>21</td>\n    </tr>\n    <tr>\n      <th>2</th>\n      <td>47</td>\n    </tr>\n    <tr>\n      <th>18</th>\n      <td>19</td>\n    </tr>\n    <tr>\n      <th>1</th>\n      <td>25</td>\n    </tr>\n    <tr>\n      <th>8</th>\n      <td>62</td>\n    </tr>\n    <tr>\n      <th>11</th>\n      <td>28</td>\n    </tr>\n    <tr>\n      <th>10</th>\n      <td>18</td>\n    </tr>\n    <tr>\n      <th>3</th>\n      <td>52</td>\n    </tr>\n    <tr>\n      <th>25</th>\n      <td>54</td>\n    </tr>\n  </tbody>\n</table>\n</div>"
          },
          "metadata": {}
        }
      ],
      "execution_count": 29
    },
    {
      "id": "149f14e9-cc6a-4223-9178-5c3ca2a7dcf7",
      "cell_type": "code",
      "source": "x_test",
      "metadata": {
        "trusted": true
      },
      "outputs": [
        {
          "execution_count": 30,
          "output_type": "execute_result",
          "data": {
            "text/plain": "    age\n23   45\n12   27\n17   58",
            "text/html": "<div>\n<style scoped>\n    .dataframe tbody tr th:only-of-type {\n        vertical-align: middle;\n    }\n\n    .dataframe tbody tr th {\n        vertical-align: top;\n    }\n\n    .dataframe thead th {\n        text-align: right;\n    }\n</style>\n<table border=\"1\" class=\"dataframe\">\n  <thead>\n    <tr style=\"text-align: right;\">\n      <th></th>\n      <th>age</th>\n    </tr>\n  </thead>\n  <tbody>\n    <tr>\n      <th>23</th>\n      <td>45</td>\n    </tr>\n    <tr>\n      <th>12</th>\n      <td>27</td>\n    </tr>\n    <tr>\n      <th>17</th>\n      <td>58</td>\n    </tr>\n  </tbody>\n</table>\n</div>"
          },
          "metadata": {}
        }
      ],
      "execution_count": 30
    },
    {
      "id": "b17026f6-526e-4909-92c4-ce826c8bb0a9",
      "cell_type": "code",
      "source": "from sklearn.linear_model import LogisticRegression\nclf = LogisticRegression()",
      "metadata": {
        "trusted": true
      },
      "outputs": [],
      "execution_count": 31
    },
    {
      "id": "d44c1f9d-f239-4984-99c4-80e626a3090f",
      "cell_type": "code",
      "source": "clf.fit(x_train,y_train)",
      "metadata": {
        "trusted": true
      },
      "outputs": [
        {
          "execution_count": 32,
          "output_type": "execute_result",
          "data": {
            "text/plain": "LogisticRegression()",
            "text/html": "<style>#sk-container-id-2 {\n  /* Definition of color scheme common for light and dark mode */\n  --sklearn-color-text: #000;\n  --sklearn-color-text-muted: #666;\n  --sklearn-color-line: gray;\n  /* Definition of color scheme for unfitted estimators */\n  --sklearn-color-unfitted-level-0: #fff5e6;\n  --sklearn-color-unfitted-level-1: #f6e4d2;\n  --sklearn-color-unfitted-level-2: #ffe0b3;\n  --sklearn-color-unfitted-level-3: chocolate;\n  /* Definition of color scheme for fitted estimators */\n  --sklearn-color-fitted-level-0: #f0f8ff;\n  --sklearn-color-fitted-level-1: #d4ebff;\n  --sklearn-color-fitted-level-2: #b3dbfd;\n  --sklearn-color-fitted-level-3: cornflowerblue;\n\n  /* Specific color for light theme */\n  --sklearn-color-text-on-default-background: var(--sg-text-color, var(--theme-code-foreground, var(--jp-content-font-color1, black)));\n  --sklearn-color-background: var(--sg-background-color, var(--theme-background, var(--jp-layout-color0, white)));\n  --sklearn-color-border-box: var(--sg-text-color, var(--theme-code-foreground, var(--jp-content-font-color1, black)));\n  --sklearn-color-icon: #696969;\n\n  @media (prefers-color-scheme: dark) {\n    /* Redefinition of color scheme for dark theme */\n    --sklearn-color-text-on-default-background: var(--sg-text-color, var(--theme-code-foreground, var(--jp-content-font-color1, white)));\n    --sklearn-color-background: var(--sg-background-color, var(--theme-background, var(--jp-layout-color0, #111)));\n    --sklearn-color-border-box: var(--sg-text-color, var(--theme-code-foreground, var(--jp-content-font-color1, white)));\n    --sklearn-color-icon: #878787;\n  }\n}\n\n#sk-container-id-2 {\n  color: var(--sklearn-color-text);\n}\n\n#sk-container-id-2 pre {\n  padding: 0;\n}\n\n#sk-container-id-2 input.sk-hidden--visually {\n  border: 0;\n  clip: rect(1px 1px 1px 1px);\n  clip: rect(1px, 1px, 1px, 1px);\n  height: 1px;\n  margin: -1px;\n  overflow: hidden;\n  padding: 0;\n  position: absolute;\n  width: 1px;\n}\n\n#sk-container-id-2 div.sk-dashed-wrapped {\n  border: 1px dashed var(--sklearn-color-line);\n  margin: 0 0.4em 0.5em 0.4em;\n  box-sizing: border-box;\n  padding-bottom: 0.4em;\n  background-color: var(--sklearn-color-background);\n}\n\n#sk-container-id-2 div.sk-container {\n  /* jupyter's `normalize.less` sets `[hidden] { display: none; }`\n     but bootstrap.min.css set `[hidden] { display: none !important; }`\n     so we also need the `!important` here to be able to override the\n     default hidden behavior on the sphinx rendered scikit-learn.org.\n     See: https://github.com/scikit-learn/scikit-learn/issues/21755 */\n  display: inline-block !important;\n  position: relative;\n}\n\n#sk-container-id-2 div.sk-text-repr-fallback {\n  display: none;\n}\n\ndiv.sk-parallel-item,\ndiv.sk-serial,\ndiv.sk-item {\n  /* draw centered vertical line to link estimators */\n  background-image: linear-gradient(var(--sklearn-color-text-on-default-background), var(--sklearn-color-text-on-default-background));\n  background-size: 2px 100%;\n  background-repeat: no-repeat;\n  background-position: center center;\n}\n\n/* Parallel-specific style estimator block */\n\n#sk-container-id-2 div.sk-parallel-item::after {\n  content: \"\";\n  width: 100%;\n  border-bottom: 2px solid var(--sklearn-color-text-on-default-background);\n  flex-grow: 1;\n}\n\n#sk-container-id-2 div.sk-parallel {\n  display: flex;\n  align-items: stretch;\n  justify-content: center;\n  background-color: var(--sklearn-color-background);\n  position: relative;\n}\n\n#sk-container-id-2 div.sk-parallel-item {\n  display: flex;\n  flex-direction: column;\n}\n\n#sk-container-id-2 div.sk-parallel-item:first-child::after {\n  align-self: flex-end;\n  width: 50%;\n}\n\n#sk-container-id-2 div.sk-parallel-item:last-child::after {\n  align-self: flex-start;\n  width: 50%;\n}\n\n#sk-container-id-2 div.sk-parallel-item:only-child::after {\n  width: 0;\n}\n\n/* Serial-specific style estimator block */\n\n#sk-container-id-2 div.sk-serial {\n  display: flex;\n  flex-direction: column;\n  align-items: center;\n  background-color: var(--sklearn-color-background);\n  padding-right: 1em;\n  padding-left: 1em;\n}\n\n\n/* Toggleable style: style used for estimator/Pipeline/ColumnTransformer box that is\nclickable and can be expanded/collapsed.\n- Pipeline and ColumnTransformer use this feature and define the default style\n- Estimators will overwrite some part of the style using the `sk-estimator` class\n*/\n\n/* Pipeline and ColumnTransformer style (default) */\n\n#sk-container-id-2 div.sk-toggleable {\n  /* Default theme specific background. It is overwritten whether we have a\n  specific estimator or a Pipeline/ColumnTransformer */\n  background-color: var(--sklearn-color-background);\n}\n\n/* Toggleable label */\n#sk-container-id-2 label.sk-toggleable__label {\n  cursor: pointer;\n  display: flex;\n  width: 100%;\n  margin-bottom: 0;\n  padding: 0.5em;\n  box-sizing: border-box;\n  text-align: center;\n  align-items: start;\n  justify-content: space-between;\n  gap: 0.5em;\n}\n\n#sk-container-id-2 label.sk-toggleable__label .caption {\n  font-size: 0.6rem;\n  font-weight: lighter;\n  color: var(--sklearn-color-text-muted);\n}\n\n#sk-container-id-2 label.sk-toggleable__label-arrow:before {\n  /* Arrow on the left of the label */\n  content: \"▸\";\n  float: left;\n  margin-right: 0.25em;\n  color: var(--sklearn-color-icon);\n}\n\n#sk-container-id-2 label.sk-toggleable__label-arrow:hover:before {\n  color: var(--sklearn-color-text);\n}\n\n/* Toggleable content - dropdown */\n\n#sk-container-id-2 div.sk-toggleable__content {\n  max-height: 0;\n  max-width: 0;\n  overflow: hidden;\n  text-align: left;\n  /* unfitted */\n  background-color: var(--sklearn-color-unfitted-level-0);\n}\n\n#sk-container-id-2 div.sk-toggleable__content.fitted {\n  /* fitted */\n  background-color: var(--sklearn-color-fitted-level-0);\n}\n\n#sk-container-id-2 div.sk-toggleable__content pre {\n  margin: 0.2em;\n  border-radius: 0.25em;\n  color: var(--sklearn-color-text);\n  /* unfitted */\n  background-color: var(--sklearn-color-unfitted-level-0);\n}\n\n#sk-container-id-2 div.sk-toggleable__content.fitted pre {\n  /* unfitted */\n  background-color: var(--sklearn-color-fitted-level-0);\n}\n\n#sk-container-id-2 input.sk-toggleable__control:checked~div.sk-toggleable__content {\n  /* Expand drop-down */\n  max-height: 200px;\n  max-width: 100%;\n  overflow: auto;\n}\n\n#sk-container-id-2 input.sk-toggleable__control:checked~label.sk-toggleable__label-arrow:before {\n  content: \"▾\";\n}\n\n/* Pipeline/ColumnTransformer-specific style */\n\n#sk-container-id-2 div.sk-label input.sk-toggleable__control:checked~label.sk-toggleable__label {\n  color: var(--sklearn-color-text);\n  background-color: var(--sklearn-color-unfitted-level-2);\n}\n\n#sk-container-id-2 div.sk-label.fitted input.sk-toggleable__control:checked~label.sk-toggleable__label {\n  background-color: var(--sklearn-color-fitted-level-2);\n}\n\n/* Estimator-specific style */\n\n/* Colorize estimator box */\n#sk-container-id-2 div.sk-estimator input.sk-toggleable__control:checked~label.sk-toggleable__label {\n  /* unfitted */\n  background-color: var(--sklearn-color-unfitted-level-2);\n}\n\n#sk-container-id-2 div.sk-estimator.fitted input.sk-toggleable__control:checked~label.sk-toggleable__label {\n  /* fitted */\n  background-color: var(--sklearn-color-fitted-level-2);\n}\n\n#sk-container-id-2 div.sk-label label.sk-toggleable__label,\n#sk-container-id-2 div.sk-label label {\n  /* The background is the default theme color */\n  color: var(--sklearn-color-text-on-default-background);\n}\n\n/* On hover, darken the color of the background */\n#sk-container-id-2 div.sk-label:hover label.sk-toggleable__label {\n  color: var(--sklearn-color-text);\n  background-color: var(--sklearn-color-unfitted-level-2);\n}\n\n/* Label box, darken color on hover, fitted */\n#sk-container-id-2 div.sk-label.fitted:hover label.sk-toggleable__label.fitted {\n  color: var(--sklearn-color-text);\n  background-color: var(--sklearn-color-fitted-level-2);\n}\n\n/* Estimator label */\n\n#sk-container-id-2 div.sk-label label {\n  font-family: monospace;\n  font-weight: bold;\n  display: inline-block;\n  line-height: 1.2em;\n}\n\n#sk-container-id-2 div.sk-label-container {\n  text-align: center;\n}\n\n/* Estimator-specific */\n#sk-container-id-2 div.sk-estimator {\n  font-family: monospace;\n  border: 1px dotted var(--sklearn-color-border-box);\n  border-radius: 0.25em;\n  box-sizing: border-box;\n  margin-bottom: 0.5em;\n  /* unfitted */\n  background-color: var(--sklearn-color-unfitted-level-0);\n}\n\n#sk-container-id-2 div.sk-estimator.fitted {\n  /* fitted */\n  background-color: var(--sklearn-color-fitted-level-0);\n}\n\n/* on hover */\n#sk-container-id-2 div.sk-estimator:hover {\n  /* unfitted */\n  background-color: var(--sklearn-color-unfitted-level-2);\n}\n\n#sk-container-id-2 div.sk-estimator.fitted:hover {\n  /* fitted */\n  background-color: var(--sklearn-color-fitted-level-2);\n}\n\n/* Specification for estimator info (e.g. \"i\" and \"?\") */\n\n/* Common style for \"i\" and \"?\" */\n\n.sk-estimator-doc-link,\na:link.sk-estimator-doc-link,\na:visited.sk-estimator-doc-link {\n  float: right;\n  font-size: smaller;\n  line-height: 1em;\n  font-family: monospace;\n  background-color: var(--sklearn-color-background);\n  border-radius: 1em;\n  height: 1em;\n  width: 1em;\n  text-decoration: none !important;\n  margin-left: 0.5em;\n  text-align: center;\n  /* unfitted */\n  border: var(--sklearn-color-unfitted-level-1) 1pt solid;\n  color: var(--sklearn-color-unfitted-level-1);\n}\n\n.sk-estimator-doc-link.fitted,\na:link.sk-estimator-doc-link.fitted,\na:visited.sk-estimator-doc-link.fitted {\n  /* fitted */\n  border: var(--sklearn-color-fitted-level-1) 1pt solid;\n  color: var(--sklearn-color-fitted-level-1);\n}\n\n/* On hover */\ndiv.sk-estimator:hover .sk-estimator-doc-link:hover,\n.sk-estimator-doc-link:hover,\ndiv.sk-label-container:hover .sk-estimator-doc-link:hover,\n.sk-estimator-doc-link:hover {\n  /* unfitted */\n  background-color: var(--sklearn-color-unfitted-level-3);\n  color: var(--sklearn-color-background);\n  text-decoration: none;\n}\n\ndiv.sk-estimator.fitted:hover .sk-estimator-doc-link.fitted:hover,\n.sk-estimator-doc-link.fitted:hover,\ndiv.sk-label-container:hover .sk-estimator-doc-link.fitted:hover,\n.sk-estimator-doc-link.fitted:hover {\n  /* fitted */\n  background-color: var(--sklearn-color-fitted-level-3);\n  color: var(--sklearn-color-background);\n  text-decoration: none;\n}\n\n/* Span, style for the box shown on hovering the info icon */\n.sk-estimator-doc-link span {\n  display: none;\n  z-index: 9999;\n  position: relative;\n  font-weight: normal;\n  right: .2ex;\n  padding: .5ex;\n  margin: .5ex;\n  width: min-content;\n  min-width: 20ex;\n  max-width: 50ex;\n  color: var(--sklearn-color-text);\n  box-shadow: 2pt 2pt 4pt #999;\n  /* unfitted */\n  background: var(--sklearn-color-unfitted-level-0);\n  border: .5pt solid var(--sklearn-color-unfitted-level-3);\n}\n\n.sk-estimator-doc-link.fitted span {\n  /* fitted */\n  background: var(--sklearn-color-fitted-level-0);\n  border: var(--sklearn-color-fitted-level-3);\n}\n\n.sk-estimator-doc-link:hover span {\n  display: block;\n}\n\n/* \"?\"-specific style due to the `<a>` HTML tag */\n\n#sk-container-id-2 a.estimator_doc_link {\n  float: right;\n  font-size: 1rem;\n  line-height: 1em;\n  font-family: monospace;\n  background-color: var(--sklearn-color-background);\n  border-radius: 1rem;\n  height: 1rem;\n  width: 1rem;\n  text-decoration: none;\n  /* unfitted */\n  color: var(--sklearn-color-unfitted-level-1);\n  border: var(--sklearn-color-unfitted-level-1) 1pt solid;\n}\n\n#sk-container-id-2 a.estimator_doc_link.fitted {\n  /* fitted */\n  border: var(--sklearn-color-fitted-level-1) 1pt solid;\n  color: var(--sklearn-color-fitted-level-1);\n}\n\n/* On hover */\n#sk-container-id-2 a.estimator_doc_link:hover {\n  /* unfitted */\n  background-color: var(--sklearn-color-unfitted-level-3);\n  color: var(--sklearn-color-background);\n  text-decoration: none;\n}\n\n#sk-container-id-2 a.estimator_doc_link.fitted:hover {\n  /* fitted */\n  background-color: var(--sklearn-color-fitted-level-3);\n}\n</style><div id=\"sk-container-id-2\" class=\"sk-top-container\"><div class=\"sk-text-repr-fallback\"><pre>LogisticRegression()</pre><b>In a Jupyter environment, please rerun this cell to show the HTML representation or trust the notebook. <br />On GitHub, the HTML representation is unable to render, please try loading this page with nbviewer.org.</b></div><div class=\"sk-container\" hidden><div class=\"sk-item\"><div class=\"sk-estimator fitted sk-toggleable\"><input class=\"sk-toggleable__control sk-hidden--visually\" id=\"sk-estimator-id-2\" type=\"checkbox\" checked><label for=\"sk-estimator-id-2\" class=\"sk-toggleable__label fitted sk-toggleable__label-arrow\"><div><div>LogisticRegression</div></div><div><a class=\"sk-estimator-doc-link fitted\" rel=\"noreferrer\" target=\"_blank\" href=\"https://scikit-learn.org/1.6/modules/generated/sklearn.linear_model.LogisticRegression.html\">?<span>Documentation for LogisticRegression</span></a><span class=\"sk-estimator-doc-link fitted\">i<span>Fitted</span></span></div></label><div class=\"sk-toggleable__content fitted\"><pre>LogisticRegression()</pre></div> </div></div></div></div>"
          },
          "metadata": {}
        }
      ],
      "execution_count": 32
    },
    {
      "id": "7369f938-ad95-497c-87ae-e42e378355c7",
      "cell_type": "code",
      "source": "clf.score(x_test,y_test)",
      "metadata": {
        "trusted": true
      },
      "outputs": [
        {
          "execution_count": 33,
          "output_type": "execute_result",
          "data": {
            "text/plain": "1.0"
          },
          "metadata": {}
        }
      ],
      "execution_count": 33
    },
    {
      "id": "4ac1102d-dd15-4b87-bd78-3d0fb3b7d016",
      "cell_type": "code",
      "source": "clf.predict(x_test)",
      "metadata": {
        "trusted": true
      },
      "outputs": [
        {
          "execution_count": 34,
          "output_type": "execute_result",
          "data": {
            "text/plain": "array([1, 0, 1], dtype=int64)"
          },
          "metadata": {}
        }
      ],
      "execution_count": 34
    },
    {
      "id": "7e3cba85-cc74-417b-b5f2-97e3c519f3f0",
      "cell_type": "code",
      "source": "",
      "metadata": {
        "trusted": true
      },
      "outputs": [],
      "execution_count": null
    }
  ]
}