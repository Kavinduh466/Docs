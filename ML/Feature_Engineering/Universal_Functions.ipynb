{
 "cells": [
  {
   "cell_type": "code",
   "execution_count": null,
   "id": "97d91ebe",
   "metadata": {},
   "outputs": [],
   "source": [
    "# use for null values for each column with count gives\n",
    "\n",
    "import pandas as pd\n",
    "\n",
    "def null_counts(df):\n",
    "    \"\"\"\n",
    "    Prints the number of null values for each column in the DataFrame\n",
    "    \"\"\"\n",
    "    for col in df.columns:\n",
    "        null_count = df[col].isnull().sum()\n",
    "        print(f\"{col}: {null_count}\")\n",
    "\n",
    "        null_percentage = (df.isnull().sum() / len(df)) * 100\n",
    "        print(null_percentage)\n",
    "\n",
    "\n",
    "# Example usage\n",
    "# df = pd.read_csv(\"your_dataset.csv\")\n",
    "null_counts(df)\n"
   ]
  }
 ],
 "metadata": {
  "language_info": {
   "name": "python"
  }
 },
 "nbformat": 4,
 "nbformat_minor": 5
}
