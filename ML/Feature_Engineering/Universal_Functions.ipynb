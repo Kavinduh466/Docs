{
 "cells": [
  {
   "cell_type": "code",
   "execution_count": null,
   "id": "97d91ebe",
   "metadata": {},
   "outputs": [],
   "source": [
    "# use for null values for each column with count gives\n",
    "\n",
    "import pandas as pd\n",
    "\n",
    "def null_counts(df):\n",
    "    \"\"\"\n",
    "    Prints the number of null values for each column in the DataFrame\n",
    "    \"\"\"\n",
    "    for col in df.columns:\n",
    "        null_count = df[col].isnull().sum()\n",
    "        print(f\"{col}: {null_count}\")\n",
    "\n",
    "        null_percentage = (df.isnull().sum() / len(df)) * 100\n",
    "        print(null_percentage)\n",
    "\n",
    "\n",
    "# Example usage\n",
    "# df = pd.read_csv(\"your_dataset.csv\")\n",
    "null_counts(df)\n"
   ]
  },
  {
   "cell_type": "code",
   "execution_count": null,
   "id": "2b1646ef",
   "metadata": {},
   "outputs": [],
   "source": [
    "# outliers find out for each column \n",
    "\n",
    "def wisker(col):\n",
    "    q1,q3=np.percentile(col,[25,75])\n",
    "    iqr=q3-q1\n",
    "    lw=q1-1.5*iqr\n",
    "    uw=q3+1.5*iqr\n",
    "    return lw,uw\n"
   ]
  },
  {
   "cell_type": "code",
   "execution_count": null,
   "id": "fe059fbe",
   "metadata": {},
   "outputs": [],
   "source": [
    "# dummies removal\n",
    "\n",
    "df_dummies = pd.get_dummies(df5, columns=['Credit_Rating', 'Banking_Sector_Health'], drop_first=True)\n",
    "df_dummies.head()\n"
   ]
  },
  {
   "cell_type": "code",
   "execution_count": null,
   "id": "e187ac6f",
   "metadata": {},
   "outputs": [],
   "source": [
    "# shuffle check percentage\n",
    "\n",
    "from sklearn.model_selection import ShuffleSplit\n",
    "from sklearn.model_selection import cross_val_score\n",
    "\n",
    "cv = ShuffleSplit(n_splits=5,test_size=0.2, random_state=0)\n",
    "cross_val_score(LinearRegression(), x,y,cv=cv)"
   ]
  },
  {
   "cell_type": "code",
   "execution_count": null,
   "id": "c1ca7266",
   "metadata": {},
   "outputs": [],
   "source": [
    "# findout best type \n",
    "\n",
    "from sklearn.model_selection import GridSearchCV\n",
    "\n",
    "from sklearn.linear_model import Lasso\n",
    "from sklearn.tree import DecisionTreeRegressor\n",
    "\n",
    "def find_best_model_using_gridsearchcv(X,y):\n",
    "    algos = {\n",
    "        'linear_regression' : {\n",
    "            'model': LinearRegression(),\n",
    "            'params': {\n",
    "                'fit_intercept': [True, False]\n",
    "            }\n",
    "        },\n",
    "        'lasso': {\n",
    "            'model': Lasso(),\n",
    "            'params': {\n",
    "                'alpha': [1,2],\n",
    "                'selection': ['random', 'cyclic']\n",
    "            }\n",
    "        },\n",
    "        'decision_tree': {\n",
    "            'model': DecisionTreeRegressor(),\n",
    "            'params': {\n",
    "                'criterion' : ['squared_error','friedman_mse'],\n",
    "                'splitter': ['best','random']\n",
    "            }\n",
    "        }\n",
    "    }\n",
    "    scores = []\n",
    "    cv = ShuffleSplit(n_splits=5, test_size=0.2, random_state=0)\n",
    "    for algo_name, config in algos.items():\n",
    "        gs =  GridSearchCV(config['model'], config['params'], cv=cv, return_train_score=False)\n",
    "        gs.fit(X,y)\n",
    "        scores.append({\n",
    "            'model': algo_name,\n",
    "            'best_score': gs.best_score_,\n",
    "            'best_params': gs.best_params_\n",
    "        })\n",
    "\n",
    "    return pd.DataFrame(scores,columns=['model','best_score','best_params'])\n",
    "\n",
    "find_best_model_using_gridsearchcv(x,y)"
   ]
  }
 ],
 "metadata": {
  "kernelspec": {
   "display_name": "Python 3",
   "language": "python",
   "name": "python3"
  },
  "language_info": {
   "codemirror_mode": {
    "name": "ipython",
    "version": 3
   },
   "file_extension": ".py",
   "mimetype": "text/x-python",
   "name": "python",
   "nbconvert_exporter": "python",
   "pygments_lexer": "ipython3",
   "version": "3.10.12"
  }
 },
 "nbformat": 4,
 "nbformat_minor": 5
}
