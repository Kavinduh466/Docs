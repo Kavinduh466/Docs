{
 "cells": [
  {
   "cell_type": "code",
   "execution_count": null,
   "id": "96161c59",
   "metadata": {},
   "outputs": [
    {
     "ename": "NoSuchElementException",
     "evalue": "Message: no such element: Unable to locate element: {\"method\":\"css selector\",\"selector\":\".start\"}\n  (Session info: chrome=138.0.7204.184); For documentation on this error, please visit: https://www.selenium.dev/documentation/webdriver/troubleshooting/errors#nosuchelementexception\nStacktrace:\n\tGetHandleVerifier [0x0xa8ba83+63395]\n\tGetHandleVerifier [0x0xa8bac4+63460]\n\t(No symbol) [0x0x8d2113]\n\t(No symbol) [0x0x91a85e]\n\t(No symbol) [0x0x91abfb]\n\t(No symbol) [0x0x962f92]\n\t(No symbol) [0x0x93f3f4]\n\t(No symbol) [0x0x9607ba]\n\t(No symbol) [0x0x93f1a6]\n\t(No symbol) [0x0x90e7b2]\n\t(No symbol) [0x0x90f654]\n\tGetHandleVerifier [0x0xd08883+2672035]\n\tGetHandleVerifier [0x0xd03cba+2652634]\n\tGetHandleVerifier [0x0xab2bca+223466]\n\tGetHandleVerifier [0x0xaa2cb8+158168]\n\tGetHandleVerifier [0x0xaa978d+185517]\n\tGetHandleVerifier [0x0xa93b78+96408]\n\tGetHandleVerifier [0x0xa93d02+96802]\n\tGetHandleVerifier [0x0xa7e90a+9770]\n\tBaseThreadInitThunk [0x0x76135d49+25]\n\tRtlInitializeExceptionChain [0x0x7789d2fb+107]\n\tRtlGetAppContainerNamedObjectPath [0x0x7789d281+561]\n",
     "output_type": "error",
     "traceback": [
      "\u001b[31m---------------------------------------------------------------------------\u001b[39m",
      "\u001b[31mNoSuchElementException\u001b[39m                    Traceback (most recent call last)",
      "\u001b[36mCell\u001b[39m\u001b[36m \u001b[39m\u001b[32mIn[2]\u001b[39m\u001b[32m, line 19\u001b[39m\n\u001b[32m     15\u001b[39m driver.get(url)\n\u001b[32m     17\u001b[39m \u001b[38;5;66;03m# --- Find the first quote element on the page ---\u001b[39;00m\n\u001b[32m     18\u001b[39m \u001b[38;5;66;03m# We'll find it using its CSS class name 'text'\u001b[39;00m\n\u001b[32m---> \u001b[39m\u001b[32m19\u001b[39m quote_element = \u001b[43mdriver\u001b[49m\u001b[43m.\u001b[49m\u001b[43mfind_element\u001b[49m\u001b[43m(\u001b[49m\u001b[43mBy\u001b[49m\u001b[43m.\u001b[49m\u001b[43mCLASS_NAME\u001b[49m\u001b[43m,\u001b[49m\u001b[43m \u001b[49m\u001b[33;43m\"\u001b[39;49m\u001b[33;43mstart\u001b[39;49m\u001b[33;43m\"\u001b[39;49m\u001b[43m)\u001b[49m\n\u001b[32m     21\u001b[39m \u001b[38;5;66;03m# --- Extract its properties ---\u001b[39;00m\n\u001b[32m     22\u001b[39m \u001b[38;5;66;03m# Selenium can get properties that only exist after the page is rendered\u001b[39;00m\n\u001b[32m     23\u001b[39m \u001b[38;5;28;01mif\u001b[39;00m quote_element:\n",
      "\u001b[36mFile \u001b[39m\u001b[32mc:\\Users\\User\\anaconda3\\envs\\tf-gpu\\Lib\\site-packages\\selenium\\webdriver\\remote\\webdriver.py:922\u001b[39m, in \u001b[36mWebDriver.find_element\u001b[39m\u001b[34m(self, by, value)\u001b[39m\n\u001b[32m    919\u001b[39m         \u001b[38;5;28;01mraise\u001b[39;00m NoSuchElementException(\u001b[33mf\u001b[39m\u001b[33m\"\u001b[39m\u001b[33mCannot locate relative element with: \u001b[39m\u001b[38;5;132;01m{\u001b[39;00mby.root\u001b[38;5;132;01m}\u001b[39;00m\u001b[33m\"\u001b[39m)\n\u001b[32m    920\u001b[39m     \u001b[38;5;28;01mreturn\u001b[39;00m elements[\u001b[32m0\u001b[39m]\n\u001b[32m--> \u001b[39m\u001b[32m922\u001b[39m \u001b[38;5;28;01mreturn\u001b[39;00m \u001b[38;5;28;43mself\u001b[39;49m\u001b[43m.\u001b[49m\u001b[43mexecute\u001b[49m\u001b[43m(\u001b[49m\u001b[43mCommand\u001b[49m\u001b[43m.\u001b[49m\u001b[43mFIND_ELEMENT\u001b[49m\u001b[43m,\u001b[49m\u001b[43m \u001b[49m\u001b[43m{\u001b[49m\u001b[33;43m\"\u001b[39;49m\u001b[33;43musing\u001b[39;49m\u001b[33;43m\"\u001b[39;49m\u001b[43m:\u001b[49m\u001b[43m \u001b[49m\u001b[43mby\u001b[49m\u001b[43m,\u001b[49m\u001b[43m \u001b[49m\u001b[33;43m\"\u001b[39;49m\u001b[33;43mvalue\u001b[39;49m\u001b[33;43m\"\u001b[39;49m\u001b[43m:\u001b[49m\u001b[43m \u001b[49m\u001b[43mvalue\u001b[49m\u001b[43m}\u001b[49m\u001b[43m)\u001b[49m[\u001b[33m\"\u001b[39m\u001b[33mvalue\u001b[39m\u001b[33m\"\u001b[39m]\n",
      "\u001b[36mFile \u001b[39m\u001b[32mc:\\Users\\User\\anaconda3\\envs\\tf-gpu\\Lib\\site-packages\\selenium\\webdriver\\remote\\webdriver.py:454\u001b[39m, in \u001b[36mWebDriver.execute\u001b[39m\u001b[34m(self, driver_command, params)\u001b[39m\n\u001b[32m    451\u001b[39m response = cast(RemoteConnection, \u001b[38;5;28mself\u001b[39m.command_executor).execute(driver_command, params)\n\u001b[32m    453\u001b[39m \u001b[38;5;28;01mif\u001b[39;00m response:\n\u001b[32m--> \u001b[39m\u001b[32m454\u001b[39m     \u001b[38;5;28;43mself\u001b[39;49m\u001b[43m.\u001b[49m\u001b[43merror_handler\u001b[49m\u001b[43m.\u001b[49m\u001b[43mcheck_response\u001b[49m\u001b[43m(\u001b[49m\u001b[43mresponse\u001b[49m\u001b[43m)\u001b[49m\n\u001b[32m    455\u001b[39m     response[\u001b[33m\"\u001b[39m\u001b[33mvalue\u001b[39m\u001b[33m\"\u001b[39m] = \u001b[38;5;28mself\u001b[39m._unwrap_value(response.get(\u001b[33m\"\u001b[39m\u001b[33mvalue\u001b[39m\u001b[33m\"\u001b[39m, \u001b[38;5;28;01mNone\u001b[39;00m))\n\u001b[32m    456\u001b[39m     \u001b[38;5;28;01mreturn\u001b[39;00m response\n",
      "\u001b[36mFile \u001b[39m\u001b[32mc:\\Users\\User\\anaconda3\\envs\\tf-gpu\\Lib\\site-packages\\selenium\\webdriver\\remote\\errorhandler.py:232\u001b[39m, in \u001b[36mErrorHandler.check_response\u001b[39m\u001b[34m(self, response)\u001b[39m\n\u001b[32m    230\u001b[39m         alert_text = value[\u001b[33m\"\u001b[39m\u001b[33malert\u001b[39m\u001b[33m\"\u001b[39m].get(\u001b[33m\"\u001b[39m\u001b[33mtext\u001b[39m\u001b[33m\"\u001b[39m)\n\u001b[32m    231\u001b[39m     \u001b[38;5;28;01mraise\u001b[39;00m exception_class(message, screen, stacktrace, alert_text)  \u001b[38;5;66;03m# type: ignore[call-arg]  # mypy is not smart enough here\u001b[39;00m\n\u001b[32m--> \u001b[39m\u001b[32m232\u001b[39m \u001b[38;5;28;01mraise\u001b[39;00m exception_class(message, screen, stacktrace)\n",
      "\u001b[31mNoSuchElementException\u001b[39m: Message: no such element: Unable to locate element: {\"method\":\"css selector\",\"selector\":\".start\"}\n  (Session info: chrome=138.0.7204.184); For documentation on this error, please visit: https://www.selenium.dev/documentation/webdriver/troubleshooting/errors#nosuchelementexception\nStacktrace:\n\tGetHandleVerifier [0x0xa8ba83+63395]\n\tGetHandleVerifier [0x0xa8bac4+63460]\n\t(No symbol) [0x0x8d2113]\n\t(No symbol) [0x0x91a85e]\n\t(No symbol) [0x0x91abfb]\n\t(No symbol) [0x0x962f92]\n\t(No symbol) [0x0x93f3f4]\n\t(No symbol) [0x0x9607ba]\n\t(No symbol) [0x0x93f1a6]\n\t(No symbol) [0x0x90e7b2]\n\t(No symbol) [0x0x90f654]\n\tGetHandleVerifier [0x0xd08883+2672035]\n\tGetHandleVerifier [0x0xd03cba+2652634]\n\tGetHandleVerifier [0x0xab2bca+223466]\n\tGetHandleVerifier [0x0xaa2cb8+158168]\n\tGetHandleVerifier [0x0xaa978d+185517]\n\tGetHandleVerifier [0x0xa93b78+96408]\n\tGetHandleVerifier [0x0xa93d02+96802]\n\tGetHandleVerifier [0x0xa7e90a+9770]\n\tBaseThreadInitThunk [0x0x76135d49+25]\n\tRtlInitializeExceptionChain [0x0x7789d2fb+107]\n\tRtlGetAppContainerNamedObjectPath [0x0x7789d281+561]\n"
     ]
    }
   ],
   "source": [
    "from selenium import webdriver\n",
    "from selenium.webdriver.common.by import By\n",
    "from selenium.webdriver.chrome.service import Service\n",
    "from webdriver_manager.chrome import ChromeDriverManager\n",
    "import json\n",
    "\n",
    "# --- Setup Selenium to use Chrome ---\n",
    "# This automatically downloads and manages the correct driver for your browser\n",
    "service = Service(ChromeDriverManager().install())\n",
    "driver = webdriver.Chrome(service=service)\n",
    "\n",
    "# --- Go to a live website ---\n",
    "# We will use 'toscrape.com', a website designed for this kind of testing.\n",
    "url = \"https://www.youtube.com/\"\n",
    "driver.get(url)\n",
    "\n",
    "# --- Find the first quote element on the page ---\n",
    "# We'll find it using its CSS class name 'text'\n",
    "quote_element = driver.find_element(By.CLASS_NAME, \"start\")\n",
    "\n",
    "# --- Extract its properties ---\n",
    "# Selenium can get properties that only exist after the page is rendered\n",
    "if quote_element:\n",
    "    quote_properties = {\n",
    "        \"text_content\": quote_element.text,\n",
    "        \"font_size\": quote_element.value_of_css_property(\"font-size\"),\n",
    "        \"color\": quote_element.value_of_css_property(\"color\"),\n",
    "        \"location\": quote_element.location,  # Gives {x, y} coordinates\n",
    "        \"size\": quote_element.size          # Gives {height, width}\n",
    "    }\n",
    "\n",
    "    print(\"--- Found Element and Extracted Rendered Properties ---\")\n",
    "    print(json.dumps(quote_properties, indent=4))\n",
    "\n",
    "else:\n",
    "    print(\"Element not found.\")\n",
    "\n",
    "# --- Close the browser when done ---\n",
    "driver.quit()"
   ]
  },
  {
   "cell_type": "code",
   "execution_count": null,
   "id": "6aa86559",
   "metadata": {},
   "outputs": [],
   "source": []
  }
 ],
 "metadata": {
  "kernelspec": {
   "display_name": "tf-gpu",
   "language": "python",
   "name": "python3"
  },
  "language_info": {
   "codemirror_mode": {
    "name": "ipython",
    "version": 3
   },
   "file_extension": ".py",
   "mimetype": "text/x-python",
   "name": "python",
   "nbconvert_exporter": "python",
   "pygments_lexer": "ipython3",
   "version": "3.11.11"
  }
 },
 "nbformat": 4,
 "nbformat_minor": 5
}
