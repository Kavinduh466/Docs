{
 "cells": [
  {
   "cell_type": "code",
   "execution_count": null,
   "id": "1e68a05c",
   "metadata": {},
   "outputs": [
    {
     "name": "stdout",
     "output_type": "stream",
     "text": [
      "--- Found Button and Extracted Properties ---\n",
      "{\n",
      "    \"type\": \"button\",\n",
      "    \"id\": \"login_btn\",\n",
      "    \"class\": [\n",
      "        \"primary\"\n",
      "    ],\n",
      "    \"text\": \"Click Me\"\n",
      "}\n"
     ]
    }
   ],
   "source": [
    "from bs4 import BeautifulSoup\n",
    "import json\n",
    "\n",
    "# Open and read our local HTML file\n",
    "with open('simpleWeb.html', 'r') as f:\n",
    "    contents = f.read()\n",
    "\n",
    "# Create a BeautifulSoup object to parse the HTML\n",
    "soup = BeautifulSoup(contents, 'html.parser')\n",
    "\n",
    "# --- Find the specific element we want ---\n",
    "# We'll find the button using its unique ID\n",
    "button_element = soup.find('button', id='login_btn')\n",
    "\n",
    "# --- Extract its properties ---\n",
    "if button_element:\n",
    "    button_properties = {\n",
    "        \"type\": \"button\",\n",
    "        \"id\": button_element.get('id'),\n",
    "        \"class\": button_element.get('class'),\n",
    "        \"text\": button_element.get_text()\n",
    "    }\n",
    "\n",
    "    # This dictionary is now the JSON representation of our button\n",
    "    print(\"--- Found Button and Extracted Properties ---\")\n",
    "    print(json.dumps(button_properties, indent=4))\n",
    "\n",
    "else:\n",
    "    print(\"Button with id 'login_btn' not found.\")"
   ]
  },
  {
   "cell_type": "code",
   "execution_count": null,
   "id": "7e801a9e",
   "metadata": {},
   "outputs": [],
   "source": []
  }
 ],
 "metadata": {
  "kernelspec": {
   "display_name": "tf-gpu",
   "language": "python",
   "name": "python3"
  },
  "language_info": {
   "codemirror_mode": {
    "name": "ipython",
    "version": 3
   },
   "file_extension": ".py",
   "mimetype": "text/x-python",
   "name": "python",
   "nbconvert_exporter": "python",
   "pygments_lexer": "ipython3",
   "version": "3.11.11"
  }
 },
 "nbformat": 4,
 "nbformat_minor": 5
}
